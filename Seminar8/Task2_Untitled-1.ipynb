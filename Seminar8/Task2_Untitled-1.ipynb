{
 "cells": [
  {
   "attachments": {},
   "cell_type": "markdown",
   "metadata": {},
   "source": [
    "Измерены значения IQ выборки студентов, обучающихся в местных технических вузах:\n",
    "\n",
    "131, 125, 115, 122, 131, 115, 107, 99, 125, 111.\n",
    "Известно, что в генеральной совокупности IQ распределен нормально. Найдите доверительный интервал для математического ожидания с надежностью 0.95."
   ]
  },
  {
   "cell_type": "code",
   "execution_count": 1,
   "metadata": {},
   "outputs": [
    {
     "name": "stdout",
     "output_type": "stream",
     "text": [
      "Средне арифметический IQ студентов в доверительном интервале (110.56; 125.64)\n"
     ]
    }
   ],
   "source": [
    "import numpy as np\n",
    "import scipy.stats as stats\n",
    "data = np.array([131, 125, 115, 122, 131, 115, 107, 99, 125, 111])\n",
    "sigma = np.std(data, ddof=1)\n",
    "alpha = 0.05\n",
    "t = stats.t.ppf(1-alpha/2, len(data)-1)\n",
    "x = np.mean(data)\n",
    "minimum = x - t * sigma/len(data)**0.5\n",
    "maximum = x + t * sigma/len(data)**0.5\n",
    "print(f\"Средне арифметический IQ студентов в доверительном интервале ({minimum:.2f}; {maximum:.2f})\")"
   ]
  }
 ],
 "metadata": {
  "kernelspec": {
   "display_name": "Python 3",
   "language": "python",
   "name": "python3"
  },
  "language_info": {
   "codemirror_mode": {
    "name": "ipython",
    "version": 3
   },
   "file_extension": ".py",
   "mimetype": "text/x-python",
   "name": "python",
   "nbconvert_exporter": "python",
   "pygments_lexer": "ipython3",
   "version": "3.10.7"
  },
  "orig_nbformat": 4,
  "vscode": {
   "interpreter": {
    "hash": "8ce3e53c1e47d4d464a00079ac6c09c5fdd5ee201550de5d27c218aa2428b92a"
   }
  }
 },
 "nbformat": 4,
 "nbformat_minor": 2
}
