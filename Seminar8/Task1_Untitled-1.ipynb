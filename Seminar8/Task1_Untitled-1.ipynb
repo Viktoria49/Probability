{
 "cells": [
  {
   "attachments": {},
   "cell_type": "markdown",
   "metadata": {},
   "source": [
    "Даны значения величины заработной платы заемщиков банка (zp) и значения их поведенческого кредитного скоринга (ks):\n",
    "\n",
    "zp = [35, 45, 190, 200, 40, 70, 54, 150, 120, 110],\n",
    "ks = [401, 574, 874, 919, 459, 739, 653, 902, 746, 832].\n",
    "Найдите ковариацию этих двух величин с помощью элементарных действий\n",
    "\n",
    "а затем с помощью функции cov из numpy. Полученные значения должны быть равны.\n",
    "\n",
    "Найдите коэффициент корреляции Пирсона с помощью ковариации и среднеквадратичных отклонений двух признаков,\n",
    "\n",
    "а затем с использованием функций из библиотек numpy и pandas."
   ]
  },
  {
   "cell_type": "code",
   "execution_count": 1,
   "metadata": {},
   "outputs": [
    {
     "name": "stdout",
     "output_type": "stream",
     "text": [
      "Смещенная ковариация с помощью элементарных действий равна 9157.84\n"
     ]
    }
   ],
   "source": [
    "import numpy as np\n",
    "zp = np.array([35, 45, 190, 200, 40, 70, 54, 150, 120, 110])\n",
    "ks = np.array([401, 574, 874, 919, 459, 739, 653, 902, 746, 832])\n",
    "cov1 = np.mean(zp*ks) - np.mean(zp)*np.mean(ks)\n",
    "print(f\"Смещенная ковариация с помощью элементарных действий равна {cov1:.2f}\")"
   ]
  },
  {
   "cell_type": "code",
   "execution_count": 2,
   "metadata": {},
   "outputs": [
    {
     "name": "stdout",
     "output_type": "stream",
     "text": [
      "Смещенная ковариация с помощью функции numpy равна 9157.84\n"
     ]
    }
   ],
   "source": [
    "cov2 = np.cov(zp, ks, ddof=0)\n",
    "print(f\"Смещенная ковариация с помощью функции numpy равна {cov2[1][0]}\")"
   ]
  },
  {
   "cell_type": "code",
   "execution_count": 3,
   "metadata": {},
   "outputs": [
    {
     "name": "stdout",
     "output_type": "stream",
     "text": [
      "Kоэффициент Пирсона равен 0.88749\n"
     ]
    }
   ],
   "source": [
    "r1 = cov1/(np.std(zp, ddof=0)*np.std(ks, ddof=0))\n",
    "print(f\"Kоэффициент Пирсона равен {r1:.5f}\")"
   ]
  },
  {
   "cell_type": "code",
   "execution_count": 4,
   "metadata": {},
   "outputs": [
    {
     "name": "stdout",
     "output_type": "stream",
     "text": [
      "Коэффициент Пирсона с помощью numpy равен 0.88749\n"
     ]
    }
   ],
   "source": [
    "r2 = np.corrcoef(zp, ks)\n",
    "print(f\"Коэффициент Пирсона с помощью numpy равен {r2[0][1]:.5f}\")"
   ]
  },
  {
   "cell_type": "code",
   "execution_count": 11,
   "metadata": {},
   "outputs": [
    {
     "name": "stdout",
     "output_type": "stream",
     "text": [
      "Коэффициент Пирсона с pandas равен 0.88749\n"
     ]
    }
   ],
   "source": [
    "import pandas as pd\n",
    "x = pd.Series(zp)\n",
    "y = pd.Series(ks)\n",
    "r3 = x.corr(y, method='pearson')\n",
    "print(f\"Коэффициент Пирсона с pandas равен {r3:.5f}\")\n"
   ]
  },
  {
   "cell_type": "code",
   "execution_count": 12,
   "metadata": {},
   "outputs": [
    {
     "name": "stdout",
     "output_type": "stream",
     "text": [
      "Коэффициент Пирсона с scipy равен 0.88749\n"
     ]
    }
   ],
   "source": [
    "from scipy import stats as st\n",
    "stat, p_value = st.pearsonr(zp, ks)\n",
    "print(f\"Коэффициент Пирсона с scipy равен {stat:.5f}\")"
   ]
  }
 ],
 "metadata": {
  "kernelspec": {
   "display_name": "Python 3",
   "language": "python",
   "name": "python3"
  },
  "language_info": {
   "codemirror_mode": {
    "name": "ipython",
    "version": 3
   },
   "file_extension": ".py",
   "mimetype": "text/x-python",
   "name": "python",
   "nbconvert_exporter": "python",
   "pygments_lexer": "ipython3",
   "version": "3.10.7"
  },
  "orig_nbformat": 4,
  "vscode": {
   "interpreter": {
    "hash": "8ce3e53c1e47d4d464a00079ac6c09c5fdd5ee201550de5d27c218aa2428b92a"
   }
  }
 },
 "nbformat": 4,
 "nbformat_minor": 2
}
